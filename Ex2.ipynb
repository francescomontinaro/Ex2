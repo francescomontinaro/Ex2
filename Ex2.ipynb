{
 "cells": [
  {
   "cell_type": "code",
   "execution_count": 1,
   "id": "embedded-personality",
   "metadata": {},
   "outputs": [
    {
     "name": "stdout",
     "output_type": "stream",
     "text": [
      "Archive:  plinkfiles.zip\n",
      "  inflating: GreSalVL_b37_AllelesUpdatedNewMapBEDAutoGeno05Mind05ControlsHWERelativeRemovedLD.bed  \n",
      "  inflating: GreSalVL_b37_AllelesUpdatedNewMapBEDAutoGeno05Mind05ControlsHWERelativeRemovedLD.bim  \n",
      "  inflating: GreSalVL_b37_AllelesUpdatedNewMapBEDAutoGeno05Mind05ControlsHWERelativeRemovedLD.fam  \n",
      "  inflating: admixture               \n",
      "  inflating: admixture32             \n",
      "  inflating: ancient2merge_cleaned.bed  \n",
      "  inflating: ancient2merge_cleaned.bim  \n",
      "  inflating: ancient2merge_cleaned.fam  \n",
      "  inflating: ancient2merge_cleanedEurasia_nopug.bed  \n",
      "  inflating: ancient2merge_cleanedEurasia_nopug.bim  \n",
      "  inflating: ancient2merge_cleanedEurasia_nopug.fam  \n",
      "  inflating: modern2merge_cleanedEurasia_nopug.bed  \n",
      "  inflating: modern2merge_cleanedEurasia_nopug.bim  \n",
      "  inflating: modern2merge_cleanedEurasia_nopug.fam  \n",
      "  inflating: modern2merge_cleaned_nopug.bed  \n",
      "  inflating: modern2merge_cleaned_nopug.bim  \n",
      "  inflating: modern2merge_cleaned_nopug.fam  \n",
      "  inflating: plink                   \n"
     ]
    }
   ],
   "source": [
    "%%bash\n",
    "unzip -o plinkfiles.zip"
   ]
  },
  {
   "cell_type": "code",
   "execution_count": 2,
   "id": "appointed-january",
   "metadata": {},
   "outputs": [
    {
     "name": "stdout",
     "output_type": "stream",
     "text": [
      "PuBa GSM1094884 0 0 0 2\n",
      "PuBa GSM1094885 0 0 0 2\n",
      "PuBa GSM1094886 0 0 0 1\n",
      "PuBa GSM1094887 0 0 0 1\n",
      "PuBa GSM1094888 0 0 0 1\n",
      "PuBa GSM1094889 0 0 0 1\n",
      "PuBa GSM1094890 0 0 0 1\n",
      "PuBa GSM1094891 0 0 0 1\n",
      "PuBa GSM1094892 0 0 0 1\n",
      "PuBa GSM1094893 0 0 0 1\n"
     ]
    }
   ],
   "source": [
    "%%bash \n",
    "head GreSalVL_b37_AllelesUpdatedNewMapBEDAutoGeno05Mind05ControlsHWERelativeRemovedLD.fam"
   ]
  },
  {
   "cell_type": "code",
   "execution_count": 3,
   "id": "disabled-movement",
   "metadata": {},
   "outputs": [
    {
     "name": "stdout",
     "output_type": "stream",
     "text": [
      "PLINK v1.90b6.22 64-bit (16 Apr 2021)          www.cog-genomics.org/plink/1.9/\n",
      "(C) 2005-2021 Shaun Purcell, Christopher Chang   GNU General Public License v3\n",
      "Logging to GreSalAndModern.log.\n",
      "Options in effect:\n",
      "  --bfile GreSalVL_b37_AllelesUpdatedNewMapBEDAutoGeno05Mind05ControlsHWERelativeRemovedLD\n",
      "  --bmerge modern2merge_cleaned_nopug\n",
      "  --make-bed\n",
      "  --out GreSalAndModern\n",
      "\n",
      "9409 MB RAM detected; reserving 4704 MB for main workspace.\n",
      "217 people loaded from\n",
      "GreSalVL_b37_AllelesUpdatedNewMapBEDAutoGeno05Mind05ControlsHWERelativeRemovedLD.fam.\n",
      "2292 people to be merged from modern2merge_cleaned_nopug.fam.\n",
      "Of these, 2292 are new, while 0 are present in the base dataset.\n",
      "125459 markers loaded from\n",
      "GreSalVL_b37_AllelesUpdatedNewMapBEDAutoGeno05Mind05ControlsHWERelativeRemovedLD.bim.\n",
      "93647 markers to be merged from modern2merge_cleaned_nopug.bim.\n",
      "Of these, 40909 are new, while 52738 are present in the base dataset.\n"
     ]
    },
    {
     "name": "stderr",
     "output_type": "stream",
     "text": [
      "Error: 26506 variants with 3+ alleles present.\n",
      "* If you believe this is due to strand inconsistency, try --flip with\n",
      "  GreSalAndModern-merge.missnp.\n",
      "  (Warning: if this seems to work, strand errors involving SNPs with A/T or C/G\n",
      "  alleles probably remain in your data.  If LD between nearby SNPs is high,\n",
      "  --flip-scan should detect them.)\n",
      "* If you are dealing with genuine multiallelic variants, we recommend exporting\n",
      "  that subset of the data to VCF (via e.g. '--recode vcf'), merging with\n",
      "  another tool/script, and then importing the result; PLINK is not yet suited\n",
      "  to handling them.\n",
      "See https://www.cog-genomics.org/plink/1.9/data#merge3 for more discussion.\n"
     ]
    },
    {
     "ename": "CalledProcessError",
     "evalue": "Command 'b'./plink --bfile GreSalVL_b37_AllelesUpdatedNewMapBEDAutoGeno05Mind05ControlsHWERelativeRemovedLD --bmerge modern2merge_cleaned_nopug --make-bed --out GreSalAndModern\\n'' returned non-zero exit status 3.",
     "output_type": "error",
     "traceback": [
      "\u001b[0;31m---------------------------------------------------------------------------\u001b[0m",
      "\u001b[0;31mCalledProcessError\u001b[0m                        Traceback (most recent call last)",
      "\u001b[0;32m<ipython-input-3-a9e57e37df43>\u001b[0m in \u001b[0;36m<module>\u001b[0;34m\u001b[0m\n\u001b[0;32m----> 1\u001b[0;31m \u001b[0mget_ipython\u001b[0m\u001b[0;34m(\u001b[0m\u001b[0;34m)\u001b[0m\u001b[0;34m.\u001b[0m\u001b[0mrun_cell_magic\u001b[0m\u001b[0;34m(\u001b[0m\u001b[0;34m'bash'\u001b[0m\u001b[0;34m,\u001b[0m \u001b[0;34m''\u001b[0m\u001b[0;34m,\u001b[0m \u001b[0;34m'./plink --bfile GreSalVL_b37_AllelesUpdatedNewMapBEDAutoGeno05Mind05ControlsHWERelativeRemovedLD --bmerge modern2merge_cleaned_nopug --make-bed --out GreSalAndModern\\n'\u001b[0m\u001b[0;34m)\u001b[0m\u001b[0;34m\u001b[0m\u001b[0;34m\u001b[0m\u001b[0m\n\u001b[0m",
      "\u001b[0;32m~/miniconda3/lib/python3.8/site-packages/IPython/core/interactiveshell.py\u001b[0m in \u001b[0;36mrun_cell_magic\u001b[0;34m(self, magic_name, line, cell)\u001b[0m\n\u001b[1;32m   2389\u001b[0m             \u001b[0;32mwith\u001b[0m \u001b[0mself\u001b[0m\u001b[0;34m.\u001b[0m\u001b[0mbuiltin_trap\u001b[0m\u001b[0;34m:\u001b[0m\u001b[0;34m\u001b[0m\u001b[0;34m\u001b[0m\u001b[0m\n\u001b[1;32m   2390\u001b[0m                 \u001b[0margs\u001b[0m \u001b[0;34m=\u001b[0m \u001b[0;34m(\u001b[0m\u001b[0mmagic_arg_s\u001b[0m\u001b[0;34m,\u001b[0m \u001b[0mcell\u001b[0m\u001b[0;34m)\u001b[0m\u001b[0;34m\u001b[0m\u001b[0;34m\u001b[0m\u001b[0m\n\u001b[0;32m-> 2391\u001b[0;31m                 \u001b[0mresult\u001b[0m \u001b[0;34m=\u001b[0m \u001b[0mfn\u001b[0m\u001b[0;34m(\u001b[0m\u001b[0;34m*\u001b[0m\u001b[0margs\u001b[0m\u001b[0;34m,\u001b[0m \u001b[0;34m**\u001b[0m\u001b[0mkwargs\u001b[0m\u001b[0;34m)\u001b[0m\u001b[0;34m\u001b[0m\u001b[0;34m\u001b[0m\u001b[0m\n\u001b[0m\u001b[1;32m   2392\u001b[0m             \u001b[0;32mreturn\u001b[0m \u001b[0mresult\u001b[0m\u001b[0;34m\u001b[0m\u001b[0;34m\u001b[0m\u001b[0m\n\u001b[1;32m   2393\u001b[0m \u001b[0;34m\u001b[0m\u001b[0m\n",
      "\u001b[0;32m~/miniconda3/lib/python3.8/site-packages/IPython/core/magics/script.py\u001b[0m in \u001b[0;36mnamed_script_magic\u001b[0;34m(line, cell)\u001b[0m\n\u001b[1;32m    140\u001b[0m             \u001b[0;32melse\u001b[0m\u001b[0;34m:\u001b[0m\u001b[0;34m\u001b[0m\u001b[0;34m\u001b[0m\u001b[0m\n\u001b[1;32m    141\u001b[0m                 \u001b[0mline\u001b[0m \u001b[0;34m=\u001b[0m \u001b[0mscript\u001b[0m\u001b[0;34m\u001b[0m\u001b[0;34m\u001b[0m\u001b[0m\n\u001b[0;32m--> 142\u001b[0;31m             \u001b[0;32mreturn\u001b[0m \u001b[0mself\u001b[0m\u001b[0;34m.\u001b[0m\u001b[0mshebang\u001b[0m\u001b[0;34m(\u001b[0m\u001b[0mline\u001b[0m\u001b[0;34m,\u001b[0m \u001b[0mcell\u001b[0m\u001b[0;34m)\u001b[0m\u001b[0;34m\u001b[0m\u001b[0;34m\u001b[0m\u001b[0m\n\u001b[0m\u001b[1;32m    143\u001b[0m \u001b[0;34m\u001b[0m\u001b[0m\n\u001b[1;32m    144\u001b[0m         \u001b[0;31m# write a basic docstring:\u001b[0m\u001b[0;34m\u001b[0m\u001b[0;34m\u001b[0m\u001b[0;34m\u001b[0m\u001b[0m\n",
      "\u001b[0;32m<decorator-gen-103>\u001b[0m in \u001b[0;36mshebang\u001b[0;34m(self, line, cell)\u001b[0m\n",
      "\u001b[0;32m~/miniconda3/lib/python3.8/site-packages/IPython/core/magic.py\u001b[0m in \u001b[0;36m<lambda>\u001b[0;34m(f, *a, **k)\u001b[0m\n\u001b[1;32m    185\u001b[0m     \u001b[0;31m# but it's overkill for just that one bit of state.\u001b[0m\u001b[0;34m\u001b[0m\u001b[0;34m\u001b[0m\u001b[0;34m\u001b[0m\u001b[0m\n\u001b[1;32m    186\u001b[0m     \u001b[0;32mdef\u001b[0m \u001b[0mmagic_deco\u001b[0m\u001b[0;34m(\u001b[0m\u001b[0marg\u001b[0m\u001b[0;34m)\u001b[0m\u001b[0;34m:\u001b[0m\u001b[0;34m\u001b[0m\u001b[0;34m\u001b[0m\u001b[0m\n\u001b[0;32m--> 187\u001b[0;31m         \u001b[0mcall\u001b[0m \u001b[0;34m=\u001b[0m \u001b[0;32mlambda\u001b[0m \u001b[0mf\u001b[0m\u001b[0;34m,\u001b[0m \u001b[0;34m*\u001b[0m\u001b[0ma\u001b[0m\u001b[0;34m,\u001b[0m \u001b[0;34m**\u001b[0m\u001b[0mk\u001b[0m\u001b[0;34m:\u001b[0m \u001b[0mf\u001b[0m\u001b[0;34m(\u001b[0m\u001b[0;34m*\u001b[0m\u001b[0ma\u001b[0m\u001b[0;34m,\u001b[0m \u001b[0;34m**\u001b[0m\u001b[0mk\u001b[0m\u001b[0;34m)\u001b[0m\u001b[0;34m\u001b[0m\u001b[0;34m\u001b[0m\u001b[0m\n\u001b[0m\u001b[1;32m    188\u001b[0m \u001b[0;34m\u001b[0m\u001b[0m\n\u001b[1;32m    189\u001b[0m         \u001b[0;32mif\u001b[0m \u001b[0mcallable\u001b[0m\u001b[0;34m(\u001b[0m\u001b[0marg\u001b[0m\u001b[0;34m)\u001b[0m\u001b[0;34m:\u001b[0m\u001b[0;34m\u001b[0m\u001b[0;34m\u001b[0m\u001b[0m\n",
      "\u001b[0;32m~/miniconda3/lib/python3.8/site-packages/IPython/core/magics/script.py\u001b[0m in \u001b[0;36mshebang\u001b[0;34m(self, line, cell)\u001b[0m\n\u001b[1;32m    243\u001b[0m             \u001b[0msys\u001b[0m\u001b[0;34m.\u001b[0m\u001b[0mstderr\u001b[0m\u001b[0;34m.\u001b[0m\u001b[0mflush\u001b[0m\u001b[0;34m(\u001b[0m\u001b[0;34m)\u001b[0m\u001b[0;34m\u001b[0m\u001b[0;34m\u001b[0m\u001b[0m\n\u001b[1;32m    244\u001b[0m         \u001b[0;32mif\u001b[0m \u001b[0margs\u001b[0m\u001b[0;34m.\u001b[0m\u001b[0mraise_error\u001b[0m \u001b[0;32mand\u001b[0m \u001b[0mp\u001b[0m\u001b[0;34m.\u001b[0m\u001b[0mreturncode\u001b[0m\u001b[0;34m!=\u001b[0m\u001b[0;36m0\u001b[0m\u001b[0;34m:\u001b[0m\u001b[0;34m\u001b[0m\u001b[0;34m\u001b[0m\u001b[0m\n\u001b[0;32m--> 245\u001b[0;31m             \u001b[0;32mraise\u001b[0m \u001b[0mCalledProcessError\u001b[0m\u001b[0;34m(\u001b[0m\u001b[0mp\u001b[0m\u001b[0;34m.\u001b[0m\u001b[0mreturncode\u001b[0m\u001b[0;34m,\u001b[0m \u001b[0mcell\u001b[0m\u001b[0;34m,\u001b[0m \u001b[0moutput\u001b[0m\u001b[0;34m=\u001b[0m\u001b[0mout\u001b[0m\u001b[0;34m,\u001b[0m \u001b[0mstderr\u001b[0m\u001b[0;34m=\u001b[0m\u001b[0merr\u001b[0m\u001b[0;34m)\u001b[0m\u001b[0;34m\u001b[0m\u001b[0;34m\u001b[0m\u001b[0m\n\u001b[0m\u001b[1;32m    246\u001b[0m \u001b[0;34m\u001b[0m\u001b[0m\n\u001b[1;32m    247\u001b[0m     \u001b[0;32mdef\u001b[0m \u001b[0m_run_script\u001b[0m\u001b[0;34m(\u001b[0m\u001b[0mself\u001b[0m\u001b[0;34m,\u001b[0m \u001b[0mp\u001b[0m\u001b[0;34m,\u001b[0m \u001b[0mcell\u001b[0m\u001b[0;34m,\u001b[0m \u001b[0mto_close\u001b[0m\u001b[0;34m)\u001b[0m\u001b[0;34m:\u001b[0m\u001b[0;34m\u001b[0m\u001b[0;34m\u001b[0m\u001b[0m\n",
      "\u001b[0;31mCalledProcessError\u001b[0m: Command 'b'./plink --bfile GreSalVL_b37_AllelesUpdatedNewMapBEDAutoGeno05Mind05ControlsHWERelativeRemovedLD --bmerge modern2merge_cleaned_nopug --make-bed --out GreSalAndModern\\n'' returned non-zero exit status 3."
     ]
    }
   ],
   "source": [
    "%%bash\n",
    "./plink --bfile GreSalVL_b37_AllelesUpdatedNewMapBEDAutoGeno05Mind05ControlsHWERelativeRemovedLD --bmerge modern2merge_cleaned_nopug --make-bed --out GreSalAndModern"
   ]
  },
  {
   "cell_type": "code",
   "execution_count": 5,
   "id": "hispanic-daily",
   "metadata": {},
   "outputs": [
    {
     "name": "stdout",
     "output_type": "stream",
     "text": [
      "PLINK v1.90b6.22 64-bit (16 Apr 2021)          www.cog-genomics.org/plink/1.9/\n",
      "(C) 2005-2021 Shaun Purcell, Christopher Chang   GNU General Public License v3\n",
      "Logging to GreSalVL_b37_AllelesUpdatedNewMapBEDAutoGeno05Mind05ControlsHWERelativeRemovedLDFlipped.log.\n",
      "Options in effect:\n",
      "  --bfile GreSalVL_b37_AllelesUpdatedNewMapBEDAutoGeno05Mind05ControlsHWERelativeRemovedLD\n",
      "  --flip GreSalAndModern-merge.missnp\n",
      "  --make-bed\n",
      "  --out GreSalVL_b37_AllelesUpdatedNewMapBEDAutoGeno05Mind05ControlsHWERelativeRemovedLDFlipped\n",
      "\n",
      "9409 MB RAM detected; reserving 4704 MB for main workspace.\n",
      "125459 variants loaded from .bim file.\n",
      "217 people (0 males, 0 females, 217 ambiguous) loaded from .fam.\n",
      "Ambiguous sex IDs written to\n",
      "GreSalVL_b37_AllelesUpdatedNewMapBEDAutoGeno05Mind05ControlsHWERelativeRemovedLDFlipped.nosex\n",
      ".\n",
      "217 phenotype values loaded from .fam.\n",
      "--flip: 26506 SNPs flipped.\n",
      "Using 1 thread (no multithreaded calculations invoked).\n",
      "Before main variant filters, 217 founders and 0 nonfounders present.\n",
      "Calculating allele frequencies... 10111213141516171819202122232425262728293031323334353637383940414243444546474849505152535455565758596061626364656667686970717273747576777879808182838485868788899091929394959697989 done.\n",
      "Total genotyping rate is 0.996173.\n",
      "125459 variants and 217 people pass filters and QC.\n",
      "Among remaining phenotypes, 51 are cases and 166 are controls.\n",
      "--make-bed to\n",
      "GreSalVL_b37_AllelesUpdatedNewMapBEDAutoGeno05Mind05ControlsHWERelativeRemovedLDFlipped.bed\n",
      "+\n",
      "GreSalVL_b37_AllelesUpdatedNewMapBEDAutoGeno05Mind05ControlsHWERelativeRemovedLDFlipped.bim\n",
      "+\n",
      "GreSalVL_b37_AllelesUpdatedNewMapBEDAutoGeno05Mind05ControlsHWERelativeRemovedLDFlipped.fam\n",
      "... 101112131415161718192021222324252627282930313233343536373839404142434445464748495051525354555657585960616263646566676869707172737475767778798081828384858687888990919293949596979899done.\n"
     ]
    },
    {
     "name": "stderr",
     "output_type": "stream",
     "text": [
      "Warning: Ignoring phenotypes of missing-sex samples.  If you don't want those\n",
      "phenotypes to be ignored, use the --allow-no-sex flag.\n"
     ]
    }
   ],
   "source": [
    "%%bash\n",
    "\n",
    "./plink --bfile GreSalVL_b37_AllelesUpdatedNewMapBEDAutoGeno05Mind05ControlsHWERelativeRemovedLD --flip GreSalAndModern-merge.missnp --make-bed --out GreSalVL_b37_AllelesUpdatedNewMapBEDAutoGeno05Mind05ControlsHWERelativeRemovedLDFlipped"
   ]
  },
  {
   "cell_type": "code",
   "execution_count": 6,
   "id": "accessory-bathroom",
   "metadata": {},
   "outputs": [
    {
     "name": "stdout",
     "output_type": "stream",
     "text": [
      "PLINK v1.90b6.22 64-bit (16 Apr 2021)          www.cog-genomics.org/plink/1.9/\n",
      "(C) 2005-2021 Shaun Purcell, Christopher Chang   GNU General Public License v3\n",
      "Logging to GreSalAndModern.log.\n",
      "Options in effect:\n",
      "  --allow-no-sex\n",
      "  --bfile GreSalVL_b37_AllelesUpdatedNewMapBEDAutoGeno05Mind05ControlsHWERelativeRemovedLDFlipped\n",
      "  --bmerge modern2merge_cleaned_nopug\n",
      "  --make-bed\n",
      "  --out GreSalAndModern\n",
      "\n",
      "9409 MB RAM detected; reserving 4704 MB for main workspace.\n",
      "217 people loaded from\n",
      "GreSalVL_b37_AllelesUpdatedNewMapBEDAutoGeno05Mind05ControlsHWERelativeRemovedLDFlipped.fam.\n",
      "2292 people to be merged from modern2merge_cleaned_nopug.fam.\n",
      "Of these, 2292 are new, while 0 are present in the base dataset.\n",
      "125459 markers loaded from\n",
      "GreSalVL_b37_AllelesUpdatedNewMapBEDAutoGeno05Mind05ControlsHWERelativeRemovedLDFlipped.bim.\n",
      "93647 markers to be merged from modern2merge_cleaned_nopug.bim.\n",
      "Of these, 40909 are new, while 52738 are present in the base dataset.\n",
      "Performing single-pass merge (2509 people, 166368 variants).\n",
      "Merged fileset written to GreSalAndModern-merge.bed + GreSalAndModern-merge.bim\n",
      "+ GreSalAndModern-merge.fam .\n",
      "166368 variants loaded from .bim file.\n",
      "2509 people (1366 males, 434 females, 709 ambiguous) loaded from .fam.\n",
      "Ambiguous sex IDs written to GreSalAndModern.nosex .\n",
      "485 phenotype values loaded from .fam.\n",
      "Using 1 thread (no multithreaded calculations invoked).\n",
      "Before main variant filters, 2509 founders and 0 nonfounders present.\n",
      "Calculating allele frequencies... 10111213141516171819202122232425262728293031323334353637383940414243444546474849505152535455565758596061626364656667686970717273747576777879808182838485868788899091929394959697989 done.\n",
      "Total genotyping rate is 0.578476.\n",
      "166368 variants and 2509 people pass filters and QC.\n",
      "Among remaining phenotypes, 51 are cases and 434 are controls.  (2024\n",
      "phenotypes are missing.)\n",
      "--make-bed to GreSalAndModern.bed + GreSalAndModern.bim + GreSalAndModern.fam\n",
      "... 101112131415161718192021222324252627282930313233343536373839404142434445464748495051525354555657585960616263646566676869707172737475767778798081828384858687888990919293949596979899done.\n"
     ]
    }
   ],
   "source": [
    "%%bash\n",
    "./plink --bfile GreSalVL_b37_AllelesUpdatedNewMapBEDAutoGeno05Mind05ControlsHWERelativeRemovedLDFlipped \\\n",
    "--bmerge modern2merge_cleaned_nopug --make-bed --out GreSalAndModern --allow-no-sex"
   ]
  },
  {
   "cell_type": "code",
   "execution_count": 7,
   "id": "legendary-dancing",
   "metadata": {},
   "outputs": [
    {
     "name": "stdout",
     "output_type": "stream",
     "text": [
      "PLINK v1.90b6.22 64-bit (16 Apr 2021)          www.cog-genomics.org/plink/1.9/\n",
      "(C) 2005-2021 Shaun Purcell, Christopher Chang   GNU General Public License v3\n",
      "Logging to GreSalAndModernEurasia.log.\n",
      "Options in effect:\n",
      "  --allow-no-sex\n",
      "  --bfile GreSalVL_b37_AllelesUpdatedNewMapBEDAutoGeno05Mind05ControlsHWERelativeRemovedLDFlipped\n",
      "  --bmerge modern2merge_cleanedEurasia_nopug\n",
      "  --make-bed\n",
      "  --out GreSalAndModernEurasia\n",
      "\n",
      "9409 MB RAM detected; reserving 4704 MB for main workspace.\n",
      "217 people loaded from\n",
      "GreSalVL_b37_AllelesUpdatedNewMapBEDAutoGeno05Mind05ControlsHWERelativeRemovedLDFlipped.fam.\n",
      "1014 people to be merged from modern2merge_cleanedEurasia_nopug.fam.\n",
      "Of these, 1014 are new, while 0 are present in the base dataset.\n",
      "125459 markers loaded from\n",
      "GreSalVL_b37_AllelesUpdatedNewMapBEDAutoGeno05Mind05ControlsHWERelativeRemovedLDFlipped.bim.\n",
      "93647 markers to be merged from modern2merge_cleanedEurasia_nopug.bim.\n",
      "Of these, 40909 are new, while 52738 are present in the base dataset.\n",
      "Performing single-pass merge (1231 people, 166368 variants).\n",
      "Merged fileset written to GreSalAndModernEurasia-merge.bed +\n",
      "GreSalAndModernEurasia-merge.bim + GreSalAndModernEurasia-merge.fam .\n",
      "166368 variants loaded from .bim file.\n",
      "1231 people (654 males, 300 females, 277 ambiguous) loaded from .fam.\n",
      "Ambiguous sex IDs written to GreSalAndModernEurasia.nosex .\n",
      "476 phenotype values loaded from .fam.\n",
      "Using 1 thread (no multithreaded calculations invoked).\n",
      "Before main variant filters, 1231 founders and 0 nonfounders present.\n",
      "Calculating allele frequencies... 10111213141516171819202122232425262728293031323334353637383940414243444546474849505152535455565758596061626364656667686970717273747576777879808182838485868788899091929394959697989 done.\n",
      "Total genotyping rate is 0.59559.\n",
      "166368 variants and 1231 people pass filters and QC.\n",
      "Among remaining phenotypes, 51 are cases and 425 are controls.  (755 phenotypes\n",
      "are missing.)\n",
      "--make-bed to GreSalAndModernEurasia.bed + GreSalAndModernEurasia.bim +\n",
      "GreSalAndModernEurasia.fam ... 101112131415161718192021222324252627282930313233343536373839404142434445464748495051525354555657585960616263646566676869707172737475767778798081828384858687888990919293949596979899done.\n"
     ]
    }
   ],
   "source": [
    "%%bash\n",
    "./plink --bfile GreSalVL_b37_AllelesUpdatedNewMapBEDAutoGeno05Mind05ControlsHWERelativeRemovedLDFlipped \\\n",
    "--bmerge modern2merge_cleanedEurasia_nopug --make-bed --out GreSalAndModernEurasia --allow-no-sex"
   ]
  },
  {
   "cell_type": "code",
   "execution_count": 8,
   "id": "august-entertainment",
   "metadata": {},
   "outputs": [
    {
     "name": "stdout",
     "output_type": "stream",
     "text": [
      "PLINK v1.90b6.22 64-bit (16 Apr 2021)          www.cog-genomics.org/plink/1.9/\n",
      "(C) 2005-2021 Shaun Purcell, Christopher Chang   GNU General Public License v3\n",
      "Logging to GreSalAndModern.log.\n",
      "Options in effect:\n",
      "  --bfile GreSalAndModern\n",
      "  --extract modern2merge_cleaned_nopug.bim\n",
      "  --make-bed\n",
      "  --out GreSalAndModern\n",
      "\n",
      "9409 MB RAM detected; reserving 4704 MB for main workspace.\n",
      "166368 variants loaded from .bim file.\n",
      "2509 people (1366 males, 434 females, 709 ambiguous) loaded from .fam.\n",
      "Ambiguous sex IDs written to GreSalAndModern.nosex .\n",
      "485 phenotype values loaded from .fam.\n",
      "--extract: 93647 variants remaining.\n",
      "Using 1 thread (no multithreaded calculations invoked).\n",
      "Before main variant filters, 2509 founders and 0 nonfounders present.\n",
      "Calculating allele frequencies... 10111213141516171819202122232425262728293031323334353637383940414243444546474849505152535455565758596061626364656667686970717273747576777879808182838485868788899091929394959697989 done.\n",
      "Total genotyping rate is 0.96082.\n",
      "93647 variants and 2509 people pass filters and QC.\n",
      "Among remaining phenotypes, 51 are cases and 434 are controls.  (2024\n",
      "phenotypes are missing.)\n",
      "--make-bed to GreSalAndModern.bed + GreSalAndModern.bim + GreSalAndModern.fam\n",
      "... 101112131415161718192021222324252627282930313233343536373839404142434445464748495051525354555657585960616263646566676869707172737475767778798081828384858687888990919293949596979899done.\n"
     ]
    },
    {
     "name": "stderr",
     "output_type": "stream",
     "text": [
      "Warning: --make-bed input and output filenames match.  Appending '~' to input\n",
      "filenames.\n",
      "Warning: Ignoring phenotypes of missing-sex samples.  If you don't want those\n",
      "phenotypes to be ignored, use the --allow-no-sex flag.\n"
     ]
    }
   ],
   "source": [
    "%%bash\n",
    "./plink --bfile GreSalAndModern --extract modern2merge_cleaned_nopug.bim --make-bed --out GreSalAndModern"
   ]
  },
  {
   "cell_type": "code",
   "execution_count": 9,
   "id": "directed-class",
   "metadata": {},
   "outputs": [
    {
     "name": "stdout",
     "output_type": "stream",
     "text": [
      "PLINK v1.90b6.22 64-bit (16 Apr 2021)          www.cog-genomics.org/plink/1.9/\n",
      "(C) 2005-2021 Shaun Purcell, Christopher Chang   GNU General Public License v3\n",
      "Logging to GreSalAndModernEurasia.log.\n",
      "Options in effect:\n",
      "  --bfile GreSalAndModernEurasia\n",
      "  --extract modern2merge_cleaned_nopug.bim\n",
      "  --make-bed\n",
      "  --out GreSalAndModernEurasia\n",
      "\n",
      "9409 MB RAM detected; reserving 4704 MB for main workspace.\n",
      "166368 variants loaded from .bim file.\n",
      "1231 people (654 males, 300 females, 277 ambiguous) loaded from .fam.\n",
      "Ambiguous sex IDs written to GreSalAndModernEurasia.nosex .\n",
      "476 phenotype values loaded from .fam.\n",
      "--extract: 93647 variants remaining.\n",
      "Using 1 thread (no multithreaded calculations invoked).\n",
      "Before main variant filters, 1231 founders and 0 nonfounders present.\n",
      "Calculating allele frequencies... 10111213141516171819202122232425262728293031323334353637383940414243444546474849505152535455565758596061626364656667686970717273747576777879808182838485868788899091929394959697989 done.\n",
      "Total genotyping rate is 0.921801.\n",
      "93647 variants and 1231 people pass filters and QC.\n",
      "Among remaining phenotypes, 51 are cases and 425 are controls.  (755 phenotypes\n",
      "are missing.)\n",
      "--make-bed to GreSalAndModernEurasia.bed + GreSalAndModernEurasia.bim +\n",
      "GreSalAndModernEurasia.fam ... 101112131415161718192021222324252627282930313233343536373839404142434445464748495051525354555657585960616263646566676869707172737475767778798081828384858687888990919293949596979899done.\n"
     ]
    },
    {
     "name": "stderr",
     "output_type": "stream",
     "text": [
      "Warning: --make-bed input and output filenames match.  Appending '~' to input\n",
      "filenames.\n",
      "Warning: Ignoring phenotypes of missing-sex samples.  If you don't want those\n",
      "phenotypes to be ignored, use the --allow-no-sex flag.\n"
     ]
    }
   ],
   "source": [
    "%%bash\n",
    "./plink --bfile GreSalAndModernEurasia --extract modern2merge_cleaned_nopug.bim --make-bed --out GreSalAndModernEurasia"
   ]
  },
  {
   "cell_type": "code",
   "execution_count": 10,
   "id": "alpha-harris",
   "metadata": {},
   "outputs": [
    {
     "name": "stdout",
     "output_type": "stream",
     "text": [
      "PLINK v1.90b6.22 64-bit (16 Apr 2021)          www.cog-genomics.org/plink/1.9/\n",
      "(C) 2005-2021 Shaun Purcell, Christopher Chang   GNU General Public License v3\n",
      "Logging to GreSalAndModernPCA.log.\n",
      "Options in effect:\n",
      "  --bfile GreSalAndModern\n",
      "  --out GreSalAndModernPCA\n",
      "  --pca 4\n",
      "\n",
      "9409 MB RAM detected; reserving 4704 MB for main workspace.\n",
      "93647 variants loaded from .bim file.\n",
      "2509 people (1366 males, 434 females, 709 ambiguous) loaded from .fam.\n",
      "Ambiguous sex IDs written to GreSalAndModernPCA.nosex .\n",
      "485 phenotype values loaded from .fam.\n",
      "Using up to 2 threads (change this with --threads).\n",
      "Before main variant filters, 2509 founders and 0 nonfounders present.\n",
      "Calculating allele frequencies... 10111213141516171819202122232425262728293031323334353637383940414243444546474849505152535455565758596061626364656667686970717273747576777879808182838485868788899091929394959697989 done.\n",
      "Total genotyping rate is 0.96082.\n",
      "93647 variants and 2509 people pass filters and QC.\n",
      "Among remaining phenotypes, 0 are cases and 268 are controls.  (2241 phenotypes\n",
      "are missing.)\n",
      "Relationship matrix calculation complete.\n",
      "--pca: Results saved to GreSalAndModernPCA.eigenval and\n",
      "GreSalAndModernPCA.eigenvec .\n",
      "PLINK v1.90b6.22 64-bit (16 Apr 2021)          www.cog-genomics.org/plink/1.9/\n",
      "(C) 2005-2021 Shaun Purcell, Christopher Chang   GNU General Public License v3\n",
      "Logging to GreSalAndModernEurasiaPCA.log.\n",
      "Options in effect:\n",
      "  --bfile GreSalAndModernEurasia\n",
      "  --out GreSalAndModernEurasiaPCA\n",
      "  --pca 4\n",
      "\n",
      "9409 MB RAM detected; reserving 4704 MB for main workspace.\n",
      "93647 variants loaded from .bim file.\n",
      "1231 people (654 males, 300 females, 277 ambiguous) loaded from .fam.\n",
      "Ambiguous sex IDs written to GreSalAndModernEurasiaPCA.nosex .\n",
      "476 phenotype values loaded from .fam.\n",
      "Using up to 2 threads (change this with --threads).\n",
      "Before main variant filters, 1231 founders and 0 nonfounders present.\n",
      "Calculating allele frequencies... 10111213141516171819202122232425262728293031323334353637383940414243444546474849505152535455565758596061626364656667686970717273747576777879808182838485868788899091929394959697989 done.\n",
      "Total genotyping rate is 0.921801.\n",
      "93647 variants and 1231 people pass filters and QC.\n",
      "Among remaining phenotypes, 0 are cases and 259 are controls.  (972 phenotypes\n",
      "are missing.)\n",
      "Relationship matrix calculation complete.\n",
      "--pca: Results saved to GreSalAndModernEurasiaPCA.eigenval and\n",
      "GreSalAndModernEurasiaPCA.eigenvec .\n"
     ]
    },
    {
     "name": "stderr",
     "output_type": "stream",
     "text": [
      "Warning: Ignoring phenotypes of missing-sex samples.  If you don't want those\n",
      "phenotypes to be ignored, use the --allow-no-sex flag.\n",
      "Warning: Ignoring phenotypes of missing-sex samples.  If you don't want those\n",
      "phenotypes to be ignored, use the --allow-no-sex flag.\n"
     ]
    }
   ],
   "source": [
    "%%bash\n",
    "./plink --bfile GreSalAndModern --pca 4 --out GreSalAndModernPCA\n",
    "./plink --bfile GreSalAndModernEurasia --pca 4 --out GreSalAndModernEurasiaPCA"
   ]
  },
  {
   "cell_type": "code",
   "execution_count": 11,
   "id": "latin-style",
   "metadata": {},
   "outputs": [
    {
     "name": "stdout",
     "output_type": "stream",
     "text": [
      "PLINK v1.90b6.22 64-bit (16 Apr 2021)          www.cog-genomics.org/plink/1.9/\n",
      "(C) 2005-2021 Shaun Purcell, Christopher Chang   GNU General Public License v3\n",
      "Logging to GreSalAndModernMDS.log.\n",
      "Options in effect:\n",
      "  --bfile GreSalAndModern\n",
      "  --cluster\n",
      "  --mds-plot 2\n",
      "  --out GreSalAndModernMDS\n",
      "\n",
      "9409 MB RAM detected; reserving 4704 MB for main workspace.\n",
      "93647 variants loaded from .bim file.\n",
      "2509 people (1366 males, 434 females, 709 ambiguous) loaded from .fam.\n",
      "Ambiguous sex IDs written to GreSalAndModernMDS.nosex .\n",
      "485 phenotype values loaded from .fam.\n",
      "Using up to 2 threads (change this with --threads).\n",
      "Before main variant filters, 2509 founders and 0 nonfounders present.\n",
      "Calculating allele frequencies... 10111213141516171819202122232425262728293031323334353637383940414243444546474849505152535455565758596061626364656667686970717273747576777879808182838485868788899091929394959697989 done.\n",
      "Total genotyping rate is 0.96082.\n",
      "93647 variants and 2509 people pass filters and QC.\n",
      "Among remaining phenotypes, 0 are cases and 268 are controls.  (2241 phenotypes\n",
      "are missing.)\n",
      "Distance matrix calculation complete.\n",
      "Clustering... done.                        \n",
      "Cluster solution written to GreSalAndModernMDS.cluster1 ,4252627282930313233343536373839404142434445464748495051525354555657585960616263646566676869707172737475767778798081828384858687888990919293949596979899100%\n",
      "GreSalAndModernMDS.cluster2 , and GreSalAndModernMDS.cluster3 .\n",
      "Performing multidimensional scaling analysis (SVD algorithm, 2\n",
      "dimensions)... done.\n",
      "MDS solution written to GreSalAndModernMDS.mds .\n",
      "PLINK v1.90b6.22 64-bit (16 Apr 2021)          www.cog-genomics.org/plink/1.9/\n",
      "(C) 2005-2021 Shaun Purcell, Christopher Chang   GNU General Public License v3\n",
      "Logging to GreSalAndModernEurasiaMDS.log.\n",
      "Options in effect:\n",
      "  --bfile GreSalAndModernEurasia\n",
      "  --cluster\n",
      "  --mds-plot 2\n",
      "  --out GreSalAndModernEurasiaMDS\n",
      "\n",
      "9409 MB RAM detected; reserving 4704 MB for main workspace.\n",
      "93647 variants loaded from .bim file.\n",
      "1231 people (654 males, 300 females, 277 ambiguous) loaded from .fam.\n",
      "Ambiguous sex IDs written to GreSalAndModernEurasiaMDS.nosex .\n",
      "476 phenotype values loaded from .fam.\n",
      "Using up to 2 threads (change this with --threads).\n",
      "Before main variant filters, 1231 founders and 0 nonfounders present.\n",
      "Calculating allele frequencies... 10111213141516171819202122232425262728293031323334353637383940414243444546474849505152535455565758596061626364656667686970717273747576777879808182838485868788899091929394959697989 done.\n",
      "Total genotyping rate is 0.921801.\n",
      "93647 variants and 1231 people pass filters and QC.\n",
      "Among remaining phenotypes, 0 are cases and 259 are controls.  (972 phenotypes\n",
      "are missing.)\n",
      "Distance matrix calculation complete.\n",
      "Clustering... done.                        \n",
      "Cluster solution written to GreSalAndModernEurasiaMDS.cluster1 ,282930313233343536373839404142434445464748495051525354555657585960616263646566676869707172737475767778798081828384858687888990919293949596979899100%\n",
      "GreSalAndModernEurasiaMDS.cluster2 , and GreSalAndModernEurasiaMDS.cluster3 .\n",
      "Performing multidimensional scaling analysis (SVD algorithm, 2\n",
      "dimensions)... done.\n",
      "MDS solution written to GreSalAndModernEurasiaMDS.mds .\n"
     ]
    },
    {
     "name": "stderr",
     "output_type": "stream",
     "text": [
      "Warning: Ignoring phenotypes of missing-sex samples.  If you don't want those\n",
      "phenotypes to be ignored, use the --allow-no-sex flag.\n",
      "Warning: Ignoring phenotypes of missing-sex samples.  If you don't want those\n",
      "phenotypes to be ignored, use the --allow-no-sex flag.\n"
     ]
    }
   ],
   "source": [
    "%%bash\n",
    "./plink --bfile GreSalAndModern --mds-plot 2 --cluster --out GreSalAndModernMDS\n",
    "./plink --bfile GreSalAndModernEurasia --mds-plot 2 --cluster --out GreSalAndModernEurasiaMDS"
   ]
  },
  {
   "cell_type": "code",
   "execution_count": 12,
   "id": "individual-probability",
   "metadata": {},
   "outputs": [
    {
     "name": "stdout",
     "output_type": "stream",
     "text": [
      "****                   ADMIXTURE Version 1.3.0                  ****\n",
      "****                    Copyright 2008-2015                     ****\n",
      "****           David Alexander, Suyash Shringarpure,            ****\n",
      "****                John  Novembre, Ken Lange                   ****\n",
      "****                                                            ****\n",
      "****                 Please cite our paper!                     ****\n",
      "****   Information at www.genetics.ucla.edu/software/admixture  ****\n",
      "\n",
      "                                                                              \n",
      "  ADMIXTURE basic usage:  (see manual for complete reference)                 \n",
      "    % admixture [options] inputFile K                                         \n",
      "                                                                              \n",
      "  where:                                                                      \n",
      "    K is the number of populations; and                                       \n",
      "    inputFile may be:                                                         \n",
      "      - a PLINK .bed file                                                     \n",
      "      - a PLINK \"12\" coded .ped file                                        \n",
      "                                                                              \n",
      "  Output will be in files inputBasename.K.Q, inputBasename.K.P                \n",
      "                                                                              \n",
      "  General options:                                                            \n",
      "    -jX          : do computation on X threads                                \n",
      "    --seed=X     : use random seed X for initialization                       \n",
      "                                                                              \n",
      "  Algorithm options:                                                          \n",
      "     -m=                                                                      \n",
      "    --method=[em|block]     : set method.  block is default                   \n",
      "                                                                              \n",
      "     -a=                                                                      \n",
      "    --acceleration=none   |                                                   \n",
      "                   sqs<X> |                                                   \n",
      "                   qn<X>      : set acceleration                              \n",
      "                                                                              \n",
      "  Convergence criteria:                                                       \n",
      "    -C=X : set major convergence criterion (for point estimation)             \n",
      "    -c=x : set minor convergence criterion (for bootstrap and CV reestimates) \n",
      "                                                                              \n",
      "  Bootstrap standard errors:                                                  \n",
      "    -B[X]      : do bootstrapping [with X replicates]                         \n",
      "                                                                              \n",
      "                                                                              \n"
     ]
    }
   ],
   "source": [
    "%%bash\n",
    "./admixture --help"
   ]
  },
  {
   "cell_type": "code",
   "execution_count": 13,
   "id": "surface-universe",
   "metadata": {},
   "outputs": [
    {
     "name": "stdout",
     "output_type": "stream",
     "text": [
      "PLINK v1.90b6.22 64-bit (16 Apr 2021)          www.cog-genomics.org/plink/1.9/\n",
      "(C) 2005-2021 Shaun Purcell, Christopher Chang   GNU General Public License v3\n",
      "Logging to GreSalAndModern10kSnps.log.\n",
      "Options in effect:\n",
      "  --bfile GreSalAndModern\n",
      "  --make-bed\n",
      "  --out GreSalAndModern10kSnps\n",
      "  --thin-count 10000\n",
      "\n",
      "9409 MB RAM detected; reserving 4704 MB for main workspace.\n",
      "93647 variants loaded from .bim file.\n",
      "2509 people (1366 males, 434 females, 709 ambiguous) loaded from .fam.\n",
      "Ambiguous sex IDs written to GreSalAndModern10kSnps.nosex .\n",
      "485 phenotype values loaded from .fam.\n",
      "--thin-count: 83647 variants removed (10000 remaining).\n",
      "Using 1 thread (no multithreaded calculations invoked).\n",
      "Before main variant filters, 2509 founders and 0 nonfounders present.\n",
      "Calculating allele frequencies... 10111213141516171819202122232425262728293031323334353637383940414243444546474849505152535455565758596061626364656667686970717273747576777879808182838485868788899091929394959697989 done.\n",
      "Total genotyping rate is 0.961655.\n",
      "10000 variants and 2509 people pass filters and QC.\n",
      "Among remaining phenotypes, 51 are cases and 434 are controls.  (2024\n",
      "phenotypes are missing.)\n",
      "--make-bed to GreSalAndModern10kSnps.bed + GreSalAndModern10kSnps.bim +\n",
      "GreSalAndModern10kSnps.fam ... 101112131415161718192021222324252627282930313233343536373839404142434445464748495051525354555657585960616263646566676869707172737475767778798081828384858687888990919293949596979899done.\n",
      "PLINK v1.90b6.22 64-bit (16 Apr 2021)          www.cog-genomics.org/plink/1.9/\n",
      "(C) 2005-2021 Shaun Purcell, Christopher Chang   GNU General Public License v3\n",
      "Logging to GreSalAndModernEurasia10kSnps.log.\n",
      "Options in effect:\n",
      "  --bfile GreSalAndModernEurasia\n",
      "  --extract GreSalAndModern10kSnps.bim\n",
      "  --make-bed\n",
      "  --out GreSalAndModernEurasia10kSnps\n",
      "\n",
      "9409 MB RAM detected; reserving 4704 MB for main workspace.\n",
      "93647 variants loaded from .bim file.\n",
      "1231 people (654 males, 300 females, 277 ambiguous) loaded from .fam.\n",
      "Ambiguous sex IDs written to GreSalAndModernEurasia10kSnps.nosex .\n",
      "476 phenotype values loaded from .fam.\n",
      "--extract: 10000 variants remaining.\n",
      "Using 1 thread (no multithreaded calculations invoked).\n",
      "Before main variant filters, 1231 founders and 0 nonfounders present.\n",
      "Calculating allele frequencies... 10111213141516171819202122232425262728293031323334353637383940414243444546474849505152535455565758596061626364656667686970717273747576777879808182838485868788899091929394959697989 done.\n",
      "Total genotyping rate is 0.923441.\n",
      "10000 variants and 1231 people pass filters and QC.\n",
      "Among remaining phenotypes, 51 are cases and 425 are controls.  (755 phenotypes\n",
      "are missing.)\n",
      "--make-bed to GreSalAndModernEurasia10kSnps.bed +\n",
      "GreSalAndModernEurasia10kSnps.bim + GreSalAndModernEurasia10kSnps.fam ... 101112131415161718192021222324252627282930313233343536373839404142434445464748495051525354555657585960616263646566676869707172737475767778798081828384858687888990919293949596979899done.\n"
     ]
    },
    {
     "name": "stderr",
     "output_type": "stream",
     "text": [
      "Warning: Ignoring phenotypes of missing-sex samples.  If you don't want those\n",
      "phenotypes to be ignored, use the --allow-no-sex flag.\n",
      "Warning: Ignoring phenotypes of missing-sex samples.  If you don't want those\n",
      "phenotypes to be ignored, use the --allow-no-sex flag.\n"
     ]
    }
   ],
   "source": [
    "%%bash \n",
    "./plink --bfile GreSalAndModern --thin-count 10000 --make-bed --out GreSalAndModern10kSnps\n",
    "./plink --bfile GreSalAndModernEurasia --extract GreSalAndModern10kSnps.bim --make-bed --out GreSalAndModernEurasia10kSnps"
   ]
  },
  {
   "cell_type": "code",
   "execution_count": 14,
   "id": "advance-hobby",
   "metadata": {},
   "outputs": [
    {
     "name": "stdout",
     "output_type": "stream",
     "text": [
      "2509 GreSalAndModern10kSnps.fam\n",
      "1231 GreSalAndModernEurasia10kSnps.fam\n"
     ]
    }
   ],
   "source": [
    "%%bash\n",
    "wc -l GreSalAndModern10kSnps.fam\n",
    "wc -l GreSalAndModernEurasia10kSnps.fam"
   ]
  },
  {
   "cell_type": "code",
   "execution_count": 15,
   "id": "moved-barbados",
   "metadata": {},
   "outputs": [
    {
     "name": "stdout",
     "output_type": "stream",
     "text": [
      "processing 2\n",
      "****                   ADMIXTURE Version 1.3.0                  ****\n",
      "****                    Copyright 2008-2015                     ****\n",
      "****           David Alexander, Suyash Shringarpure,            ****\n",
      "****                John  Novembre, Ken Lange                   ****\n",
      "****                                                            ****\n",
      "****                 Please cite our paper!                     ****\n",
      "****   Information at www.genetics.ucla.edu/software/admixture  ****\n",
      "\n",
      "Random seed: 43\n",
      "Point estimation method: Block relaxation algorithm\n",
      "Convergence acceleration algorithm: QuasiNewton, 3 secant conditions\n",
      "Point estimation will terminate when objective function delta < 0.0001\n",
      "Estimation of standard errors disabled; will compute point estimates only.\n",
      "Size of G: 2509x10000\n",
      "Performing five EM steps to prime main algorithm\n",
      "1 (EM) \tElapsed: 4.48\tLoglikelihood: -2.72484e+07\t(delta): 1.42068e+07\n",
      "2 (EM) \tElapsed: 3.275\tLoglikelihood: -2.6544e+07\t(delta): 704391\n",
      "3 (EM) \tElapsed: 2.889\tLoglikelihood: -2.63359e+07\t(delta): 208038\n",
      "4 (EM) \tElapsed: 2.661\tLoglikelihood: -2.62337e+07\t(delta): 102190\n",
      "5 (EM) \tElapsed: 2.488\tLoglikelihood: -2.61787e+07\t(delta): 55011.4\n",
      "Initial loglikelihood: -2.61787e+07\n",
      "Starting main algorithm\n",
      "1 (QN/Block) \tElapsed: 8.342\tLoglikelihood: -2.57653e+07\t(delta): 413467\n",
      "2 (QN/Block) \tElapsed: 6.703\tLoglikelihood: -2.56292e+07\t(delta): 136085\n",
      "3 (QN/Block) \tElapsed: 7.169\tLoglikelihood: -2.55738e+07\t(delta): 55383.3\n",
      "4 (QN/Block) \tElapsed: 10.623\tLoglikelihood: -2.5534e+07\t(delta): 39817.5\n",
      "5 (QN/Block) \tElapsed: 11.38\tLoglikelihood: -2.55304e+07\t(delta): 3535.86\n",
      "6 (QN/Block) \tElapsed: 9.76\tLoglikelihood: -2.55298e+07\t(delta): 652.091\n",
      "7 (QN/Block) \tElapsed: 8.056\tLoglikelihood: -2.55295e+07\t(delta): 270.995\n",
      "8 (QN/Block) \tElapsed: 8.563\tLoglikelihood: -2.55293e+07\t(delta): 170.448\n",
      "9 (QN/Block) \tElapsed: 7.649\tLoglikelihood: -2.55292e+07\t(delta): 95.4182\n",
      "10 (QN/Block) \tElapsed: 7.714\tLoglikelihood: -2.55292e+07\t(delta): 57.3997\n",
      "11 (QN/Block) \tElapsed: 7.572\tLoglikelihood: -2.55292e+07\t(delta): 11.8796\n",
      "12 (QN/Block) \tElapsed: 7.605\tLoglikelihood: -2.55292e+07\t(delta): 11.7077\n",
      "13 (QN/Block) \tElapsed: 7.427\tLoglikelihood: -2.55292e+07\t(delta): 2.5488\n",
      "14 (QN/Block) \tElapsed: 9.662\tLoglikelihood: -2.55292e+07\t(delta): 0.0690086\n",
      "15 (QN/Block) \tElapsed: 7.98\tLoglikelihood: -2.55292e+07\t(delta): 0.0346305\n",
      "16 (QN/Block) \tElapsed: 7.723\tLoglikelihood: -2.55292e+07\t(delta): 0.00194236\n",
      "17 (QN/Block) \tElapsed: 8.041\tLoglikelihood: -2.55292e+07\t(delta): 2.78428e-05\n",
      "Summary: \n",
      "Converged in 17 iterations (172.112 sec)\n",
      "Loglikelihood: -25529166.044628\n",
      "Fst divergences between estimated populations: \n",
      "\tPop0\t\n",
      "Pop0\t\n",
      "Pop1\t0.132\t\n",
      "Writing output files.\n",
      "****                   ADMIXTURE Version 1.3.0                  ****\n",
      "****                    Copyright 2008-2015                     ****\n",
      "****           David Alexander, Suyash Shringarpure,            ****\n",
      "****                John  Novembre, Ken Lange                   ****\n",
      "****                                                            ****\n",
      "****                 Please cite our paper!                     ****\n",
      "****   Information at www.genetics.ucla.edu/software/admixture  ****\n",
      "\n",
      "Random seed: 43\n",
      "Point estimation method: Block relaxation algorithm\n",
      "Convergence acceleration algorithm: QuasiNewton, 3 secant conditions\n",
      "Point estimation will terminate when objective function delta < 0.0001\n",
      "Estimation of standard errors disabled; will compute point estimates only.\n",
      "Size of G: 1231x10000\n",
      "Performing five EM steps to prime main algorithm\n",
      "1 (EM) \tElapsed: 1.208\tLoglikelihood: -1.24911e+07\t(delta): 7.03371e+06\n",
      "2 (EM) \tElapsed: 1.138\tLoglikelihood: -1.21659e+07\t(delta): 325181\n",
      "3 (EM) \tElapsed: 1.121\tLoglikelihood: -1.20692e+07\t(delta): 96656\n",
      "4 (EM) \tElapsed: 1.113\tLoglikelihood: -1.20223e+07\t(delta): 46942.7\n",
      "5 (EM) \tElapsed: 1.095\tLoglikelihood: -1.19979e+07\t(delta): 24333.7\n",
      "Initial loglikelihood: -1.19979e+07\n",
      "Starting main algorithm\n",
      "1 (QN/Block) \tElapsed: 2.92\tLoglikelihood: -1.1966e+07\t(delta): 31932.7\n",
      "2 (QN/Block) \tElapsed: 2.903\tLoglikelihood: -1.1953e+07\t(delta): 13025.3\n",
      "3 (QN/Block) \tElapsed: 3.136\tLoglikelihood: -1.19477e+07\t(delta): 5322.97\n",
      "4 (QN/Block) \tElapsed: 4.108\tLoglikelihood: -1.19439e+07\t(delta): 3788.47\n",
      "5 (QN/Block) \tElapsed: 3.922\tLoglikelihood: -1.19419e+07\t(delta): 1969.06\n",
      "6 (QN/Block) \tElapsed: 3.976\tLoglikelihood: -1.19406e+07\t(delta): 1256.12\n",
      "7 (QN/Block) \tElapsed: 3.934\tLoglikelihood: -1.19393e+07\t(delta): 1341.82\n",
      "8 (QN/Block) \tElapsed: 3.925\tLoglikelihood: -1.1938e+07\t(delta): 1335.77\n",
      "9 (QN/Block) \tElapsed: 3.905\tLoglikelihood: -1.19368e+07\t(delta): 1130.64\n",
      "10 (QN/Block) \tElapsed: 3.657\tLoglikelihood: -1.1936e+07\t(delta): 796.21\n",
      "11 (QN/Block) \tElapsed: 3.969\tLoglikelihood: -1.19356e+07\t(delta): 444.055\n",
      "12 (QN/Block) \tElapsed: 4.004\tLoglikelihood: -1.19354e+07\t(delta): 161.951\n",
      "13 (QN/Block) \tElapsed: 3.553\tLoglikelihood: -1.19353e+07\t(delta): 185.862\n",
      "14 (QN/Block) \tElapsed: 3.914\tLoglikelihood: -1.1935e+07\t(delta): 210.806\n",
      "15 (QN/Block) \tElapsed: 3.973\tLoglikelihood: -1.1934e+07\t(delta): 1045.93\n",
      "16 (QN/Block) \tElapsed: 4.186\tLoglikelihood: -1.19335e+07\t(delta): 452.51\n",
      "17 (QN/Block) \tElapsed: 3.857\tLoglikelihood: -1.19333e+07\t(delta): 243.589\n",
      "18 (QN/Block) \tElapsed: 3.578\tLoglikelihood: -1.19331e+07\t(delta): 166.538\n",
      "19 (QN/Block) \tElapsed: 3.19\tLoglikelihood: -1.1933e+07\t(delta): 113.866\n",
      "20 (QN/Block) \tElapsed: 3.173\tLoglikelihood: -1.19329e+07\t(delta): 110.973\n",
      "21 (QN/Block) \tElapsed: 3.183\tLoglikelihood: -1.19328e+07\t(delta): 98.0428\n",
      "22 (QN/Block) \tElapsed: 3.153\tLoglikelihood: -1.19324e+07\t(delta): 420.509\n",
      "23 (QN/Block) \tElapsed: 3.496\tLoglikelihood: -1.19321e+07\t(delta): 267.389\n",
      "24 (QN/Block) \tElapsed: 4.015\tLoglikelihood: -1.19319e+07\t(delta): 204.661\n",
      "25 (QN/Block) \tElapsed: 3.829\tLoglikelihood: -1.19318e+07\t(delta): 138.124\n",
      "26 (QN/Block) \tElapsed: 3.884\tLoglikelihood: -1.19316e+07\t(delta): 183.935\n",
      "27 (QN/Block) \tElapsed: 3.458\tLoglikelihood: -1.19314e+07\t(delta): 166.542\n",
      "28 (QN/Block) \tElapsed: 3.205\tLoglikelihood: -1.19313e+07\t(delta): 125.947\n",
      "29 (QN/Block) \tElapsed: 3.156\tLoglikelihood: -1.19313e+07\t(delta): 45.9697\n",
      "30 (QN/Block) \tElapsed: 3.132\tLoglikelihood: -1.19311e+07\t(delta): 137.662\n",
      "31 (QN/Block) \tElapsed: 3.184\tLoglikelihood: -1.1931e+07\t(delta): 97.5824\n",
      "32 (QN/Block) \tElapsed: 3.132\tLoglikelihood: -1.19309e+07\t(delta): 76.681\n",
      "33 (QN/Block) \tElapsed: 3.131\tLoglikelihood: -1.19309e+07\t(delta): 21.1028\n",
      "34 (QN/Block) \tElapsed: 3.14\tLoglikelihood: -1.19309e+07\t(delta): 39.409\n",
      "35 (QN/Block) \tElapsed: 3.161\tLoglikelihood: -1.19308e+07\t(delta): 63.1965\n",
      "36 (QN/Block) \tElapsed: 3.162\tLoglikelihood: -1.19308e+07\t(delta): 45.511\n",
      "37 (QN/Block) \tElapsed: 3.144\tLoglikelihood: -1.19308e+07\t(delta): 11.7354\n",
      "38 (QN/Block) \tElapsed: 3.17\tLoglikelihood: -1.19307e+07\t(delta): 43.9858\n",
      "39 (QN/Block) \tElapsed: 3.151\tLoglikelihood: -1.19307e+07\t(delta): 31.9256\n",
      "40 (QN/Block) \tElapsed: 3.234\tLoglikelihood: -1.19307e+07\t(delta): 18.8856\n",
      "41 (QN/Block) \tElapsed: 3.181\tLoglikelihood: -1.19307e+07\t(delta): 4.20376\n",
      "42 (QN/Block) \tElapsed: 3.129\tLoglikelihood: -1.19306e+07\t(delta): 23.5204\n",
      "43 (QN/Block) \tElapsed: 3.126\tLoglikelihood: -1.19306e+07\t(delta): 9.42687\n",
      "44 (QN/Block) \tElapsed: 3.158\tLoglikelihood: -1.19306e+07\t(delta): 3.9634\n",
      "45 (QN/Block) \tElapsed: 3.247\tLoglikelihood: -1.19306e+07\t(delta): 0.757438\n",
      "46 (QN/Block) \tElapsed: 3.121\tLoglikelihood: -1.19306e+07\t(delta): 0.351273\n",
      "47 (QN/Block) \tElapsed: 3.144\tLoglikelihood: -1.19306e+07\t(delta): 0.536069\n",
      "48 (QN/Block) \tElapsed: 3.607\tLoglikelihood: -1.19306e+07\t(delta): 0.0694177\n",
      "49 (QN/Block) \tElapsed: 3.706\tLoglikelihood: -1.19306e+07\t(delta): 0.00637329\n",
      "50 (QN/Block) \tElapsed: 3.371\tLoglikelihood: -1.19306e+07\t(delta): 0.00268759\n",
      "51 (QN/Block) \tElapsed: 3.254\tLoglikelihood: -1.19306e+07\t(delta): 0.00385649\n",
      "52 (QN/Block) \tElapsed: 3.225\tLoglikelihood: -1.19306e+07\t(delta): 0.000556698\n",
      "53 (QN/Block) \tElapsed: 3.223\tLoglikelihood: -1.19306e+07\t(delta): 5.90142e-05\n",
      "Summary: \n",
      "Converged in 53 iterations (204.385 sec)\n",
      "Loglikelihood: -11930625.390384\n",
      "Fst divergences between estimated populations: \n",
      "\tPop0\t\n",
      "Pop0\t\n",
      "Pop1\t0.143\t\n",
      "Writing output files.\n"
     ]
    }
   ],
   "source": [
    "%%bash\n",
    "for K in 2\n",
    "do\n",
    "echo processing $K\n",
    "./admixture GreSalAndModern10kSnps.bed $K\n",
    "./admixture GreSalAndModernEurasia10kSnps.bed $K\n",
    "done"
   ]
  },
  {
   "cell_type": "code",
   "execution_count": 16,
   "id": "supreme-longitude",
   "metadata": {},
   "outputs": [
    {
     "name": "stdout",
     "output_type": "stream",
     "text": [
      "PLINK v1.90b6.22 64-bit (16 Apr 2021)          www.cog-genomics.org/plink/1.9/\n",
      "(C) 2005-2021 Shaun Purcell, Christopher Chang   GNU General Public License v3\n",
      "Logging to ancient2merge_cleaned_nopug10KSnps.log.\n",
      "Options in effect:\n",
      "  --bfile ancient2merge_cleaned_nopug\n",
      "  --extract GreSalAndModern10kSnps.bim\n",
      "  --make-bed\n",
      "  --out ancient2merge_cleaned_nopug10KSnps\n",
      "\n",
      "9409 MB RAM detected; reserving 4704 MB for main workspace.\n",
      "93647 variants loaded from .bim file.\n",
      "92 people (51 males, 41 females) loaded from .fam.\n",
      "92 phenotype values loaded from .fam.\n",
      "--extract: 10000 variants remaining.\n",
      "Using 1 thread (no multithreaded calculations invoked).\n",
      "Before main variant filters, 92 founders and 0 nonfounders present.\n",
      "Calculating allele frequencies... 10111213141516171819202122232425262728293031323334353637383940414243444546474849505152535455565758596061626364656667686970717273747576777879808182838485868788899091929394959697989 done.\n",
      "Total genotyping rate is 0.644013.\n",
      "10000 variants and 92 people pass filters and QC.\n",
      "Among remaining phenotypes, 0 are cases and 92 are controls.\n",
      "--make-bed to ancient2merge_cleaned_nopug10KSnps.bed +\n",
      "ancient2merge_cleaned_nopug10KSnps.bim + ancient2merge_cleaned_nopug10KSnps.fam\n",
      "... 101112131415161718192021222324252627282930313233343536373839404142434445464748495051525354555657585960616263646566676869707172737475767778798081828384858687888990919293949596979899done.\n"
     ]
    }
   ],
   "source": [
    "%%bash \n",
    "./plink --bfile ancient2merge_cleaned_nopug --extract GreSalAndModern10kSnps.bim --make-bed --out ancient2merge_cleaned_nopug10KSnps"
   ]
  },
  {
   "cell_type": "code",
   "execution_count": 17,
   "id": "baking-parameter",
   "metadata": {},
   "outputs": [],
   "source": [
    "%%bash\n",
    "cp GreSalAndModern10kSnps.2.P ancient2merge_cleaned_nopug10KSnps.2.P.in\n",
    "cp GreSalAndModernEurasia10kSnps.2.P ancient2merge_cleaned_nopug10KSnps.2.P.in"
   ]
  },
  {
   "cell_type": "code",
   "execution_count": 18,
   "id": "black-visibility",
   "metadata": {},
   "outputs": [
    {
     "name": "stdout",
     "output_type": "stream",
     "text": [
      "10000 ancient2merge_cleaned_nopug10KSnps.bim\n"
     ]
    }
   ],
   "source": [
    "%%bash\n",
    "wc -l ancient2merge_cleaned_nopug10KSnps.bim"
   ]
  },
  {
   "cell_type": "code",
   "execution_count": 19,
   "id": "western-technician",
   "metadata": {},
   "outputs": [
    {
     "name": "stdout",
     "output_type": "stream",
     "text": [
      "****                   ADMIXTURE Version 1.3.0                  ****\n",
      "****                    Copyright 2008-2015                     ****\n",
      "****           David Alexander, Suyash Shringarpure,            ****\n",
      "****                John  Novembre, Ken Lange                   ****\n",
      "****                                                            ****\n",
      "****                 Please cite our paper!                     ****\n",
      "****   Information at www.genetics.ucla.edu/software/admixture  ****\n",
      "\n",
      "Will read fixed P from files\n",
      "Random seed: 43\n",
      "Point estimation method: Block relaxation algorithm\n",
      "P parameters will be fixed at initial values.\n",
      "Convergence acceleration algorithm: QuasiNewton, 3 secant conditions\n",
      "Point estimation will terminate when objective function delta < 0.0001\n",
      "Estimation of standard errors disabled; will compute point estimates only.\n",
      "Initializing parameter matrices from input files:\n",
      "  Read P input from ancient2merge_cleaned_nopug10KSnps.2.P.in\n",
      "Error: detected that all genotypes are missing for a SNP locus.\n",
      "Please apply quality-control filters to remove such loci.\n"
     ]
    },
    {
     "ename": "CalledProcessError",
     "evalue": "Command 'b'./admixture -P ancient2merge_cleaned_nopug10KSnps.bed 2\\n'' returned non-zero exit status 255.",
     "output_type": "error",
     "traceback": [
      "\u001b[0;31m---------------------------------------------------------------------------\u001b[0m",
      "\u001b[0;31mCalledProcessError\u001b[0m                        Traceback (most recent call last)",
      "\u001b[0;32m<ipython-input-19-7647a017a6bf>\u001b[0m in \u001b[0;36m<module>\u001b[0;34m\u001b[0m\n\u001b[0;32m----> 1\u001b[0;31m \u001b[0mget_ipython\u001b[0m\u001b[0;34m(\u001b[0m\u001b[0;34m)\u001b[0m\u001b[0;34m.\u001b[0m\u001b[0mrun_cell_magic\u001b[0m\u001b[0;34m(\u001b[0m\u001b[0;34m'bash'\u001b[0m\u001b[0;34m,\u001b[0m \u001b[0;34m''\u001b[0m\u001b[0;34m,\u001b[0m \u001b[0;34m'./admixture -P ancient2merge_cleaned_nopug10KSnps.bed 2\\n'\u001b[0m\u001b[0;34m)\u001b[0m\u001b[0;34m\u001b[0m\u001b[0;34m\u001b[0m\u001b[0m\n\u001b[0m",
      "\u001b[0;32m~/miniconda3/lib/python3.8/site-packages/IPython/core/interactiveshell.py\u001b[0m in \u001b[0;36mrun_cell_magic\u001b[0;34m(self, magic_name, line, cell)\u001b[0m\n\u001b[1;32m   2389\u001b[0m             \u001b[0;32mwith\u001b[0m \u001b[0mself\u001b[0m\u001b[0;34m.\u001b[0m\u001b[0mbuiltin_trap\u001b[0m\u001b[0;34m:\u001b[0m\u001b[0;34m\u001b[0m\u001b[0;34m\u001b[0m\u001b[0m\n\u001b[1;32m   2390\u001b[0m                 \u001b[0margs\u001b[0m \u001b[0;34m=\u001b[0m \u001b[0;34m(\u001b[0m\u001b[0mmagic_arg_s\u001b[0m\u001b[0;34m,\u001b[0m \u001b[0mcell\u001b[0m\u001b[0;34m)\u001b[0m\u001b[0;34m\u001b[0m\u001b[0;34m\u001b[0m\u001b[0m\n\u001b[0;32m-> 2391\u001b[0;31m                 \u001b[0mresult\u001b[0m \u001b[0;34m=\u001b[0m \u001b[0mfn\u001b[0m\u001b[0;34m(\u001b[0m\u001b[0;34m*\u001b[0m\u001b[0margs\u001b[0m\u001b[0;34m,\u001b[0m \u001b[0;34m**\u001b[0m\u001b[0mkwargs\u001b[0m\u001b[0;34m)\u001b[0m\u001b[0;34m\u001b[0m\u001b[0;34m\u001b[0m\u001b[0m\n\u001b[0m\u001b[1;32m   2392\u001b[0m             \u001b[0;32mreturn\u001b[0m \u001b[0mresult\u001b[0m\u001b[0;34m\u001b[0m\u001b[0;34m\u001b[0m\u001b[0m\n\u001b[1;32m   2393\u001b[0m \u001b[0;34m\u001b[0m\u001b[0m\n",
      "\u001b[0;32m~/miniconda3/lib/python3.8/site-packages/IPython/core/magics/script.py\u001b[0m in \u001b[0;36mnamed_script_magic\u001b[0;34m(line, cell)\u001b[0m\n\u001b[1;32m    140\u001b[0m             \u001b[0;32melse\u001b[0m\u001b[0;34m:\u001b[0m\u001b[0;34m\u001b[0m\u001b[0;34m\u001b[0m\u001b[0m\n\u001b[1;32m    141\u001b[0m                 \u001b[0mline\u001b[0m \u001b[0;34m=\u001b[0m \u001b[0mscript\u001b[0m\u001b[0;34m\u001b[0m\u001b[0;34m\u001b[0m\u001b[0m\n\u001b[0;32m--> 142\u001b[0;31m             \u001b[0;32mreturn\u001b[0m \u001b[0mself\u001b[0m\u001b[0;34m.\u001b[0m\u001b[0mshebang\u001b[0m\u001b[0;34m(\u001b[0m\u001b[0mline\u001b[0m\u001b[0;34m,\u001b[0m \u001b[0mcell\u001b[0m\u001b[0;34m)\u001b[0m\u001b[0;34m\u001b[0m\u001b[0;34m\u001b[0m\u001b[0m\n\u001b[0m\u001b[1;32m    143\u001b[0m \u001b[0;34m\u001b[0m\u001b[0m\n\u001b[1;32m    144\u001b[0m         \u001b[0;31m# write a basic docstring:\u001b[0m\u001b[0;34m\u001b[0m\u001b[0;34m\u001b[0m\u001b[0;34m\u001b[0m\u001b[0m\n",
      "\u001b[0;32m<decorator-gen-103>\u001b[0m in \u001b[0;36mshebang\u001b[0;34m(self, line, cell)\u001b[0m\n",
      "\u001b[0;32m~/miniconda3/lib/python3.8/site-packages/IPython/core/magic.py\u001b[0m in \u001b[0;36m<lambda>\u001b[0;34m(f, *a, **k)\u001b[0m\n\u001b[1;32m    185\u001b[0m     \u001b[0;31m# but it's overkill for just that one bit of state.\u001b[0m\u001b[0;34m\u001b[0m\u001b[0;34m\u001b[0m\u001b[0;34m\u001b[0m\u001b[0m\n\u001b[1;32m    186\u001b[0m     \u001b[0;32mdef\u001b[0m \u001b[0mmagic_deco\u001b[0m\u001b[0;34m(\u001b[0m\u001b[0marg\u001b[0m\u001b[0;34m)\u001b[0m\u001b[0;34m:\u001b[0m\u001b[0;34m\u001b[0m\u001b[0;34m\u001b[0m\u001b[0m\n\u001b[0;32m--> 187\u001b[0;31m         \u001b[0mcall\u001b[0m \u001b[0;34m=\u001b[0m \u001b[0;32mlambda\u001b[0m \u001b[0mf\u001b[0m\u001b[0;34m,\u001b[0m \u001b[0;34m*\u001b[0m\u001b[0ma\u001b[0m\u001b[0;34m,\u001b[0m \u001b[0;34m**\u001b[0m\u001b[0mk\u001b[0m\u001b[0;34m:\u001b[0m \u001b[0mf\u001b[0m\u001b[0;34m(\u001b[0m\u001b[0;34m*\u001b[0m\u001b[0ma\u001b[0m\u001b[0;34m,\u001b[0m \u001b[0;34m**\u001b[0m\u001b[0mk\u001b[0m\u001b[0;34m)\u001b[0m\u001b[0;34m\u001b[0m\u001b[0;34m\u001b[0m\u001b[0m\n\u001b[0m\u001b[1;32m    188\u001b[0m \u001b[0;34m\u001b[0m\u001b[0m\n\u001b[1;32m    189\u001b[0m         \u001b[0;32mif\u001b[0m \u001b[0mcallable\u001b[0m\u001b[0;34m(\u001b[0m\u001b[0marg\u001b[0m\u001b[0;34m)\u001b[0m\u001b[0;34m:\u001b[0m\u001b[0;34m\u001b[0m\u001b[0;34m\u001b[0m\u001b[0m\n",
      "\u001b[0;32m~/miniconda3/lib/python3.8/site-packages/IPython/core/magics/script.py\u001b[0m in \u001b[0;36mshebang\u001b[0;34m(self, line, cell)\u001b[0m\n\u001b[1;32m    243\u001b[0m             \u001b[0msys\u001b[0m\u001b[0;34m.\u001b[0m\u001b[0mstderr\u001b[0m\u001b[0;34m.\u001b[0m\u001b[0mflush\u001b[0m\u001b[0;34m(\u001b[0m\u001b[0;34m)\u001b[0m\u001b[0;34m\u001b[0m\u001b[0;34m\u001b[0m\u001b[0m\n\u001b[1;32m    244\u001b[0m         \u001b[0;32mif\u001b[0m \u001b[0margs\u001b[0m\u001b[0;34m.\u001b[0m\u001b[0mraise_error\u001b[0m \u001b[0;32mand\u001b[0m \u001b[0mp\u001b[0m\u001b[0;34m.\u001b[0m\u001b[0mreturncode\u001b[0m\u001b[0;34m!=\u001b[0m\u001b[0;36m0\u001b[0m\u001b[0;34m:\u001b[0m\u001b[0;34m\u001b[0m\u001b[0;34m\u001b[0m\u001b[0m\n\u001b[0;32m--> 245\u001b[0;31m             \u001b[0;32mraise\u001b[0m \u001b[0mCalledProcessError\u001b[0m\u001b[0;34m(\u001b[0m\u001b[0mp\u001b[0m\u001b[0;34m.\u001b[0m\u001b[0mreturncode\u001b[0m\u001b[0;34m,\u001b[0m \u001b[0mcell\u001b[0m\u001b[0;34m,\u001b[0m \u001b[0moutput\u001b[0m\u001b[0;34m=\u001b[0m\u001b[0mout\u001b[0m\u001b[0;34m,\u001b[0m \u001b[0mstderr\u001b[0m\u001b[0;34m=\u001b[0m\u001b[0merr\u001b[0m\u001b[0;34m)\u001b[0m\u001b[0;34m\u001b[0m\u001b[0;34m\u001b[0m\u001b[0m\n\u001b[0m\u001b[1;32m    246\u001b[0m \u001b[0;34m\u001b[0m\u001b[0m\n\u001b[1;32m    247\u001b[0m     \u001b[0;32mdef\u001b[0m \u001b[0m_run_script\u001b[0m\u001b[0;34m(\u001b[0m\u001b[0mself\u001b[0m\u001b[0;34m,\u001b[0m \u001b[0mp\u001b[0m\u001b[0;34m,\u001b[0m \u001b[0mcell\u001b[0m\u001b[0;34m,\u001b[0m \u001b[0mto_close\u001b[0m\u001b[0;34m)\u001b[0m\u001b[0;34m:\u001b[0m\u001b[0;34m\u001b[0m\u001b[0;34m\u001b[0m\u001b[0m\n",
      "\u001b[0;31mCalledProcessError\u001b[0m: Command 'b'./admixture -P ancient2merge_cleaned_nopug10KSnps.bed 2\\n'' returned non-zero exit status 255."
     ]
    }
   ],
   "source": [
    "%%bash \n",
    "./admixture -P ancient2merge_cleaned_nopug10KSnps.bed 2"
   ]
  },
  {
   "cell_type": "code",
   "execution_count": 20,
   "id": "continuous-planning",
   "metadata": {},
   "outputs": [
    {
     "name": "stdout",
     "output_type": "stream",
     "text": [
      "PLINK v1.90b6.22 64-bit (16 Apr 2021)          www.cog-genomics.org/plink/1.9/\n",
      "(C) 2005-2021 Shaun Purcell, Christopher Chang   GNU General Public License v3\n",
      "Logging to ancient2merge_cleaned_nopug10KSnpsNoMissing.log.\n",
      "Options in effect:\n",
      "  --bfile ancient2merge_cleaned_nopug10KSnps\n",
      "  --geno .99\n",
      "  --make-bed\n",
      "  --out ancient2merge_cleaned_nopug10KSnpsNoMissing\n",
      "\n",
      "9409 MB RAM detected; reserving 4704 MB for main workspace.\n",
      "10000 variants loaded from .bim file.\n",
      "92 people (51 males, 41 females) loaded from .fam.\n",
      "92 phenotype values loaded from .fam.\n",
      "Using 1 thread (no multithreaded calculations invoked).\n",
      "Before main variant filters, 92 founders and 0 nonfounders present.\n",
      "Calculating allele frequencies... 10111213141516171819202122232425262728293031323334353637383940414243444546474849505152535455565758596061626364656667686970717273747576777879808182838485868788899091929394959697989 done.\n",
      "Total genotyping rate is 0.644013.\n",
      "15 variants removed due to missing genotype data (--geno).\n",
      "9985 variants and 92 people pass filters and QC.\n",
      "Among remaining phenotypes, 0 are cases and 92 are controls.\n",
      "--make-bed to ancient2merge_cleaned_nopug10KSnpsNoMissing.bed +\n",
      "ancient2merge_cleaned_nopug10KSnpsNoMissing.bim +\n",
      "ancient2merge_cleaned_nopug10KSnpsNoMissing.fam ... 101112131415161718192021222324252627282930313233343536373839404142434445464748495051525354555657585960616263646566676869707172737475767778798081828384858687888990919293949596979899done.\n"
     ]
    }
   ],
   "source": [
    "%%bash\n",
    "./plink --bfile ancient2merge_cleaned_nopug10KSnps --geno .99 --make-bed --out ancient2merge_cleaned_nopug10KSnpsNoMissing "
   ]
  },
  {
   "cell_type": "code",
   "execution_count": 21,
   "id": "authorized-death",
   "metadata": {},
   "outputs": [
    {
     "name": "stdout",
     "output_type": "stream",
     "text": [
      "PLINK v1.90b6.22 64-bit (16 Apr 2021)          www.cog-genomics.org/plink/1.9/\n",
      "(C) 2005-2021 Shaun Purcell, Christopher Chang   GNU General Public License v3\n",
      "Logging to GreSalAndModernEurasia10kSnpsNoMissing.log.\n",
      "Options in effect:\n",
      "  --bfile GreSalAndModernEurasia10kSnps\n",
      "  --extract ancient2merge_cleaned_nopug10KSnpsNoMissing.bim\n",
      "  --make-bed\n",
      "  --out GreSalAndModernEurasia10kSnpsNoMissing\n",
      "\n",
      "9409 MB RAM detected; reserving 4704 MB for main workspace.\n",
      "10000 variants loaded from .bim file.\n",
      "1231 people (654 males, 300 females, 277 ambiguous) loaded from .fam.\n",
      "Ambiguous sex IDs written to GreSalAndModernEurasia10kSnpsNoMissing.nosex .\n",
      "476 phenotype values loaded from .fam.\n",
      "--extract: 9985 variants remaining.\n",
      "Using 1 thread (no multithreaded calculations invoked).\n",
      "Before main variant filters, 1231 founders and 0 nonfounders present.\n",
      "Calculating allele frequencies... 10111213141516171819202122232425262728293031323334353637383940414243444546474849505152535455565758596061626364656667686970717273747576777879808182838485868788899091929394959697989 done.\n",
      "Total genotyping rate is 0.923415.\n",
      "9985 variants and 1231 people pass filters and QC.\n",
      "Among remaining phenotypes, 51 are cases and 425 are controls.  (755 phenotypes\n",
      "are missing.)\n",
      "--make-bed to GreSalAndModernEurasia10kSnpsNoMissing.bed +\n",
      "GreSalAndModernEurasia10kSnpsNoMissing.bim +\n",
      "GreSalAndModernEurasia10kSnpsNoMissing.fam ... 101112131415161718192021222324252627282930313233343536373839404142434445464748495051525354555657585960616263646566676869707172737475767778798081828384858687888990919293949596979899done.\n"
     ]
    },
    {
     "name": "stderr",
     "output_type": "stream",
     "text": [
      "Warning: Ignoring phenotypes of missing-sex samples.  If you don't want those\n",
      "phenotypes to be ignored, use the --allow-no-sex flag.\n"
     ]
    }
   ],
   "source": [
    "%%bash\n",
    "./plink --bfile GreSalAndModernEurasia10kSnps --extract ancient2merge_cleaned_nopug10KSnpsNoMissing.bim --make-bed --out GreSalAndModernEurasia10kSnpsNoMissing"
   ]
  },
  {
   "cell_type": "code",
   "execution_count": 22,
   "id": "killing-georgia",
   "metadata": {},
   "outputs": [
    {
     "name": "stdout",
     "output_type": "stream",
     "text": [
      "****                   ADMIXTURE Version 1.3.0                  ****\n",
      "****                    Copyright 2008-2015                     ****\n",
      "****           David Alexander, Suyash Shringarpure,            ****\n",
      "****                John  Novembre, Ken Lange                   ****\n",
      "****                                                            ****\n",
      "****                 Please cite our paper!                     ****\n",
      "****   Information at www.genetics.ucla.edu/software/admixture  ****\n",
      "\n",
      "Random seed: 43\n",
      "Point estimation method: Block relaxation algorithm\n",
      "Convergence acceleration algorithm: QuasiNewton, 3 secant conditions\n",
      "Point estimation will terminate when objective function delta < 0.0001\n",
      "Estimation of standard errors disabled; will compute point estimates only.\n",
      "Size of G: 1231x9985\n",
      "Performing five EM steps to prime main algorithm\n",
      "1 (EM) \tElapsed: 1.098\tLoglikelihood: -1.24786e+07\t(delta): 7.10761e+06\n",
      "2 (EM) \tElapsed: 1.099\tLoglikelihood: -1.21472e+07\t(delta): 331438\n",
      "3 (EM) \tElapsed: 1.146\tLoglikelihood: -1.20521e+07\t(delta): 95088.4\n",
      "4 (EM) \tElapsed: 1.172\tLoglikelihood: -1.2006e+07\t(delta): 46131.3\n",
      "5 (EM) \tElapsed: 1.052\tLoglikelihood: -1.19819e+07\t(delta): 24029.5\n",
      "Initial loglikelihood: -1.19819e+07\n",
      "Starting main algorithm\n",
      "1 (QN/Block) \tElapsed: 2.632\tLoglikelihood: -1.19505e+07\t(delta): 31456.8\n",
      "2 (QN/Block) \tElapsed: 3.065\tLoglikelihood: -1.19369e+07\t(delta): 13557.8\n",
      "3 (QN/Block) \tElapsed: 3.735\tLoglikelihood: -1.19311e+07\t(delta): 5794.18\n",
      "4 (QN/Block) \tElapsed: 3.83\tLoglikelihood: -1.19275e+07\t(delta): 3675.65\n",
      "5 (QN/Block) \tElapsed: 4.405\tLoglikelihood: -1.19256e+07\t(delta): 1805.1\n",
      "6 (QN/Block) \tElapsed: 4.526\tLoglikelihood: -1.19242e+07\t(delta): 1463.91\n",
      "7 (QN/Block) \tElapsed: 4.894\tLoglikelihood: -1.19228e+07\t(delta): 1427.1\n",
      "8 (QN/Block) \tElapsed: 5.019\tLoglikelihood: -1.19215e+07\t(delta): 1283.98\n",
      "9 (QN/Block) \tElapsed: 5.08\tLoglikelihood: -1.19205e+07\t(delta): 952.701\n",
      "10 (QN/Block) \tElapsed: 4.161\tLoglikelihood: -1.192e+07\t(delta): 527.487\n",
      "11 (QN/Block) \tElapsed: 4.011\tLoglikelihood: -1.19197e+07\t(delta): 252.685\n",
      "12 (QN/Block) \tElapsed: 3.927\tLoglikelihood: -1.19195e+07\t(delta): 194.273\n",
      "13 (QN/Block) \tElapsed: 3.957\tLoglikelihood: -1.19192e+07\t(delta): 345.138\n",
      "14 (QN/Block) \tElapsed: 3.881\tLoglikelihood: -1.19187e+07\t(delta): 543.008\n",
      "15 (QN/Block) \tElapsed: 3.945\tLoglikelihood: -1.1918e+07\t(delta): 621.386\n",
      "16 (QN/Block) \tElapsed: 3.489\tLoglikelihood: -1.19177e+07\t(delta): 298.157\n",
      "17 (QN/Block) \tElapsed: 3.303\tLoglikelihood: -1.19176e+07\t(delta): 147.82\n",
      "18 (QN/Block) \tElapsed: 3.412\tLoglikelihood: -1.19175e+07\t(delta): 125.814\n",
      "19 (QN/Block) \tElapsed: 3.209\tLoglikelihood: -1.19173e+07\t(delta): 135.006\n",
      "20 (QN/Block) \tElapsed: 3.364\tLoglikelihood: -1.19172e+07\t(delta): 171.383\n",
      "21 (QN/Block) \tElapsed: 3.19\tLoglikelihood: -1.1917e+07\t(delta): 167.101\n",
      "22 (QN/Block) \tElapsed: 3.2\tLoglikelihood: -1.19169e+07\t(delta): 133.535\n",
      "23 (QN/Block) \tElapsed: 3.455\tLoglikelihood: -1.19167e+07\t(delta): 114.355\n",
      "24 (QN/Block) \tElapsed: 3.58\tLoglikelihood: -1.19166e+07\t(delta): 115.532\n",
      "25 (QN/Block) \tElapsed: 3.246\tLoglikelihood: -1.19164e+07\t(delta): 227.229\n",
      "26 (QN/Block) \tElapsed: 3.114\tLoglikelihood: -1.19162e+07\t(delta): 171.376\n",
      "27 (QN/Block) \tElapsed: 3.248\tLoglikelihood: -1.19161e+07\t(delta): 126.522\n",
      "28 (QN/Block) \tElapsed: 3.21\tLoglikelihood: -1.19161e+07\t(delta): 45.2705\n",
      "29 (QN/Block) \tElapsed: 3.179\tLoglikelihood: -1.19157e+07\t(delta): 313.917\n",
      "30 (QN/Block) \tElapsed: 3.39\tLoglikelihood: -1.19156e+07\t(delta): 172.692\n",
      "31 (QN/Block) \tElapsed: 3.66\tLoglikelihood: -1.19155e+07\t(delta): 118.922\n",
      "32 (QN/Block) \tElapsed: 3.136\tLoglikelihood: -1.19154e+07\t(delta): 32.1461\n",
      "33 (QN/Block) \tElapsed: 3.23\tLoglikelihood: -1.19153e+07\t(delta): 145.6\n",
      "34 (QN/Block) \tElapsed: 3.116\tLoglikelihood: -1.19152e+07\t(delta): 80.7757\n",
      "35 (QN/Block) \tElapsed: 3.511\tLoglikelihood: -1.19152e+07\t(delta): 38.6316\n",
      "36 (QN/Block) \tElapsed: 3.152\tLoglikelihood: -1.19151e+07\t(delta): 24.9723\n",
      "37 (QN/Block) \tElapsed: 3.153\tLoglikelihood: -1.19151e+07\t(delta): 11.5462\n",
      "38 (QN/Block) \tElapsed: 3.271\tLoglikelihood: -1.19151e+07\t(delta): 22.9112\n",
      "39 (QN/Block) \tElapsed: 3.135\tLoglikelihood: -1.19151e+07\t(delta): 12.6913\n",
      "40 (QN/Block) \tElapsed: 3.161\tLoglikelihood: -1.19151e+07\t(delta): 3.7571\n",
      "41 (QN/Block) \tElapsed: 3.15\tLoglikelihood: -1.19151e+07\t(delta): 2.39553\n",
      "42 (QN/Block) \tElapsed: 3.557\tLoglikelihood: -1.19151e+07\t(delta): 4.60672\n",
      "43 (QN/Block) \tElapsed: 3.697\tLoglikelihood: -1.19151e+07\t(delta): 2.22077\n",
      "44 (QN/Block) \tElapsed: 3.174\tLoglikelihood: -1.19151e+07\t(delta): 1.05943\n",
      "45 (QN/Block) \tElapsed: 3.223\tLoglikelihood: -1.19151e+07\t(delta): 0.389332\n",
      "46 (QN/Block) \tElapsed: 3.129\tLoglikelihood: -1.19151e+07\t(delta): 0.586008\n",
      "47 (QN/Block) \tElapsed: 3.139\tLoglikelihood: -1.19151e+07\t(delta): 0.571477\n",
      "48 (QN/Block) \tElapsed: 3.135\tLoglikelihood: -1.19151e+07\t(delta): 0.128897\n",
      "49 (QN/Block) \tElapsed: 3.133\tLoglikelihood: -1.19151e+07\t(delta): 0.0157161\n",
      "50 (QN/Block) \tElapsed: 3.161\tLoglikelihood: -1.19151e+07\t(delta): 0.00959872\n",
      "51 (QN/Block) \tElapsed: 3.129\tLoglikelihood: -1.19151e+07\t(delta): 0.01498\n",
      "52 (QN/Block) \tElapsed: 3.113\tLoglikelihood: -1.19151e+07\t(delta): 0.0012761\n",
      "53 (QN/Block) \tElapsed: 3.135\tLoglikelihood: -1.19151e+07\t(delta): 0.00020312\n",
      "54 (QN/Block) \tElapsed: 3.123\tLoglikelihood: -1.19151e+07\t(delta): 2.11261e-05\n",
      "Summary: \n",
      "Converged in 54 iterations (210.374 sec)\n",
      "Loglikelihood: -11915067.857171\n",
      "Fst divergences between estimated populations: \n",
      "\tPop0\t\n",
      "Pop0\t\n",
      "Pop1\t0.143\t\n",
      "Writing output files.\n"
     ]
    }
   ],
   "source": [
    "%%bash\n",
    "./admixture GreSalAndModernEurasia10kSnpsNoMissing.bed 2"
   ]
  },
  {
   "cell_type": "code",
   "execution_count": 23,
   "id": "lyric-cambridge",
   "metadata": {},
   "outputs": [],
   "source": [
    "%%bash\n",
    "cp GreSalAndModernEurasia10kSnpsNoMissing.2.P ancient2merge_cleaned_nopug10KSnpsNoMissing.2.P.in "
   ]
  },
  {
   "cell_type": "code",
   "execution_count": 24,
   "id": "hazardous-monday",
   "metadata": {},
   "outputs": [
    {
     "name": "stdout",
     "output_type": "stream",
     "text": [
      "****                   ADMIXTURE Version 1.3.0                  ****\n",
      "****                    Copyright 2008-2015                     ****\n",
      "****           David Alexander, Suyash Shringarpure,            ****\n",
      "****                John  Novembre, Ken Lange                   ****\n",
      "****                                                            ****\n",
      "****                 Please cite our paper!                     ****\n",
      "****   Information at www.genetics.ucla.edu/software/admixture  ****\n",
      "\n",
      "Will read fixed P from files\n",
      "Random seed: 43\n",
      "Point estimation method: Block relaxation algorithm\n",
      "P parameters will be fixed at initial values.\n",
      "Convergence acceleration algorithm: QuasiNewton, 3 secant conditions\n",
      "Point estimation will terminate when objective function delta < 0.0001\n",
      "Estimation of standard errors disabled; will compute point estimates only.\n",
      "Initializing parameter matrices from input files:\n",
      "  Read P input from ancient2merge_cleaned_nopug10KSnpsNoMissing.2.P.in\n",
      "Size of G: 92x9985\n",
      "Performing five EM steps to prime main algorithm\n",
      "1 (EM) \tElapsed: 0.037\tLoglikelihood: -692052\t(delta): 11166.4\n",
      "2 (EM) \tElapsed: 0.043\tLoglikelihood: -682969\t(delta): 9082.46\n",
      "3 (EM) \tElapsed: 0.036\tLoglikelihood: -675141\t(delta): 7828.42\n",
      "4 (EM) \tElapsed: 0.035\tLoglikelihood: -668395\t(delta): 6745.93\n",
      "5 (EM) \tElapsed: 0.035\tLoglikelihood: -662620\t(delta): 5774.96\n",
      "Initial loglikelihood: -662620\n",
      "Starting main algorithm\n",
      "1 (QN/Block) \tElapsed: 0.091\tLoglikelihood: -629689\t(delta): 32931.4\n",
      "2 (QN/Block) \tElapsed: 0.092\tLoglikelihood: -629643\t(delta): 45.8976\n",
      "3 (QN/Block) \tElapsed: 0.182\tLoglikelihood: -629640\t(delta): 2.65325\n",
      "4 (QN/Block) \tElapsed: 0.177\tLoglikelihood: -629638\t(delta): 2.02786\n",
      "5 (QN/Block) \tElapsed: 0.178\tLoglikelihood: -629638\t(delta): 0.381344\n",
      "6 (QN/Block) \tElapsed: 0.182\tLoglikelihood: -629638\t(delta): 0.000215273\n",
      "7 (QN/Block) \tElapsed: 0.181\tLoglikelihood: -629638\t(delta): 1.5134e-09\n",
      "Summary: \n",
      "Converged in 7 iterations (1.538 sec)\n",
      "Loglikelihood: -629637.628283\n",
      "Fst divergences between estimated populations: \n",
      "\tPop0\t\n",
      "Pop0\t\n",
      "Pop1\t0.143\t\n",
      "Writing output files.\n"
     ]
    }
   ],
   "source": [
    "%%bash\n",
    "./admixture -P ancient2merge_cleaned_nopug10KSnpsNoMissing.bed 2"
   ]
  },
  {
   "cell_type": "code",
   "execution_count": null,
   "id": "tropical-survey",
   "metadata": {},
   "outputs": [],
   "source": []
  }
 ],
 "metadata": {
  "kernelspec": {
   "display_name": "Python 3",
   "language": "python",
   "name": "python3"
  },
  "language_info": {
   "codemirror_mode": {
    "name": "ipython",
    "version": 3
   },
   "file_extension": ".py",
   "mimetype": "text/x-python",
   "name": "python",
   "nbconvert_exporter": "python",
   "pygments_lexer": "ipython3",
   "version": "3.8.5"
  }
 },
 "nbformat": 4,
 "nbformat_minor": 5
}
